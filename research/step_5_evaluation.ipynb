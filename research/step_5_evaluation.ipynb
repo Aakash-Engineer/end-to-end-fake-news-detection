{
 "cells": [
  {
   "cell_type": "code",
   "execution_count": 1,
   "metadata": {},
   "outputs": [],
   "source": [
    "import os\n",
    "os.chdir('../')"
   ]
  },
  {
   "cell_type": "code",
   "execution_count": 3,
   "metadata": {},
   "outputs": [
    {
     "data": {
      "text/plain": [
       "'e:\\\\Github repositories\\\\end-to-end-fake-news-detection'"
      ]
     },
     "execution_count": 3,
     "metadata": {},
     "output_type": "execute_result"
    }
   ],
   "source": [
    "pwd"
   ]
  },
  {
   "cell_type": "code",
   "execution_count": 15,
   "metadata": {},
   "outputs": [],
   "source": [
    "from pathlib import Path\n",
    "from dataclasses import dataclass\n",
    "\n",
    "@dataclass\n",
    "class EvaluationConfig:\n",
    "    root_dir: Path\n",
    "    test_data_path: Path\n",
    "    model_path: Path\n",
    "    evaluation_metrics_path: Path"
   ]
  },
  {
   "cell_type": "code",
   "execution_count": 16,
   "metadata": {},
   "outputs": [],
   "source": [
    "from FakeNewsDetection.utils.common import read_yaml, create_directories\n",
    "from FakeNewsDetection.constants import *\n",
    "\n",
    "class ConfigurationManager:\n",
    "    def __init__(self, \n",
    "                 config_path= CONFIG_FILE,\n",
    "                 parama_path= PARAMS_FILE,\n",
    "                 schema_path= SCHEMA_FILE):\n",
    "        \n",
    "        self.config = read_yaml(config_path)\n",
    "        self.params = read_yaml(parama_path)\n",
    "        self.schema = read_yaml(schema_path)\n",
    "\n",
    "        create_directories([self.config.artifact_root])\n",
    "\n",
    "    def get_evaluation_config(self) -> EvaluationConfig:\n",
    "        config = self.config.evaluation\n",
    "        create_directories([config.root_dir])\n",
    "\n",
    "        return EvaluationConfig(\n",
    "            root_dir = Path(config.root_dir),\n",
    "            test_data_path = Path(config.test_data_path),\n",
    "            model_path = Path(config.model_path),\n",
    "            evaluation_metrics_path = Path(config.evaluation_metrics_path)\n",
    "        )"
   ]
  },
  {
   "cell_type": "code",
   "execution_count": 17,
   "metadata": {},
   "outputs": [],
   "source": [
    "import os\n",
    "from FakeNewsDetection import logger\n",
    "import joblib\n",
    "import pandas as pd\n",
    "from sklearn.metrics import accuracy_score, precision_score, recall_score, f1_score\n",
    "from sklearn.feature_extraction.text import TfidfVectorizer\n",
    "import json\n",
    "\n",
    "\n",
    "\n",
    "class Evaluation:\n",
    "    def __init__(self, config: EvaluationConfig):\n",
    "        self.config = config\n",
    "\n",
    "    def evaluate(self):\n",
    "        try:\n",
    "            # load model\n",
    "            model = joblib.load(self.config.model_path)\n",
    "            logger.info('Model loaded successfully')\n",
    "            # load test data\n",
    "            test_data = pd.read_csv(self.config.test_data_path)\n",
    "            logger.info('Test data loaded successfully')\n",
    "\n",
    "            # vectorize data\n",
    "            tfidf_vectorizer = TfidfVectorizer(max_features=200, stop_words='english')\n",
    "            X = tfidf_vectorizer.fit_transform(test_data['text'])\n",
    "            y = test_data['label']\n",
    "            logger.info('Data vectorized successfully')\n",
    "            # free memory\n",
    "            del test_data\n",
    "\n",
    "            # predict\n",
    "            y_pred = model.predict(X)\n",
    "            # calculate metrics\n",
    "            accuracy = accuracy_score(y, y_pred)\n",
    "            precision = precision_score(y, y_pred)\n",
    "            recall = recall_score(y, y_pred)\n",
    "            f1 = f1_score(y, y_pred)\n",
    "            logger.info('Metrics calculated successfully')\n",
    "\n",
    "            # save metrics in evaluation_metrics_path in json fromat\n",
    "            metrics = {\n",
    "                'accuracy': accuracy,\n",
    "                'precision': precision,\n",
    "                'recall': recall,\n",
    "                'f1': f1\n",
    "            }\n",
    "            with open(self.config.evaluation_metrics_path, 'w') as f:\n",
    "                json.dump(metrics, f)\n",
    "            logger.info('Metrics saved successfully')\n",
    "\n",
    "        except Exception as e:\n",
    "            logger.error(f'Error in evaluation: {e}')\n",
    "            raise e\n",
    "\n"
   ]
  },
  {
   "cell_type": "code",
   "execution_count": 18,
   "metadata": {},
   "outputs": [
    {
     "name": "stdout",
     "output_type": "stream",
     "text": [
      "[2024-11-21 17:51:51,407] [INFO] [common.py:26] [Loaded yaml file from config\\config.yaml]\n",
      "[2024-11-21 17:51:51,407] [INFO] [common.py:26] [Loaded yaml file from params.yaml]\n",
      "[2024-11-21 17:51:51,426] [INFO] [common.py:26] [Loaded yaml file from schema.yaml]\n",
      "[2024-11-21 17:51:51,428] [INFO] [common.py:48] [created directory at: artifacts]\n",
      "[2024-11-21 17:51:51,430] [INFO] [common.py:48] [created directory at: artifacts/evaluation]\n",
      "[2024-11-21 17:51:51,448] [INFO] [4081662381.py:19] [Model loaded successfully]\n",
      "[2024-11-21 17:51:51,688] [INFO] [4081662381.py:22] [Test data loaded successfully]\n",
      "[2024-11-21 17:51:52,523] [INFO] [4081662381.py:28] [Data vectorized successfully]\n",
      "[2024-11-21 17:51:52,540] [INFO] [4081662381.py:39] [Metrics calculated successfully]\n",
      "[2024-11-21 17:51:52,540] [INFO] [4081662381.py:50] [Metrics saved successfully]\n"
     ]
    }
   ],
   "source": [
    "# start evaluation\n",
    "config_manager = ConfigurationManager()\n",
    "evaluation_config = config_manager.get_evaluation_config()\n",
    "evaluation = Evaluation(evaluation_config)\n",
    "evaluation.evaluate()"
   ]
  },
  {
   "cell_type": "code",
   "execution_count": 14,
   "metadata": {},
   "outputs": [],
   "source": [
    "temp = pd.read_csv('artifacts/data_ingestion/data.csv')\n",
    "\n",
    "# shuffle the rows of dataframe\n",
    "temp = temp.sample(frac=1).reset_index(drop=True)\n",
    "# save to save place with same name\n",
    "temp.to_csv('artifacts/data_ingestion/data.csv', index=False)"
   ]
  }
 ],
 "metadata": {
  "kernelspec": {
   "display_name": "eefnd",
   "language": "python",
   "name": "python3"
  },
  "language_info": {
   "codemirror_mode": {
    "name": "ipython",
    "version": 3
   },
   "file_extension": ".py",
   "mimetype": "text/x-python",
   "name": "python",
   "nbconvert_exporter": "python",
   "pygments_lexer": "ipython3",
   "version": "3.9.12"
  }
 },
 "nbformat": 4,
 "nbformat_minor": 2
}
