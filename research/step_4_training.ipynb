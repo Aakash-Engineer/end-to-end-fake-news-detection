{
 "cells": [
  {
   "cell_type": "code",
   "execution_count": 1,
   "metadata": {},
   "outputs": [],
   "source": [
    "import os\n",
    "os.chdir('../')"
   ]
  },
  {
   "cell_type": "code",
   "execution_count": 2,
   "metadata": {},
   "outputs": [
    {
     "data": {
      "text/plain": [
       "'e:\\\\Github repositories\\\\end-to-end-fake-news-detection'"
      ]
     },
     "execution_count": 2,
     "metadata": {},
     "output_type": "execute_result"
    }
   ],
   "source": [
    "pwd"
   ]
  },
  {
   "cell_type": "code",
   "execution_count": 3,
   "metadata": {},
   "outputs": [],
   "source": [
    "from pathlib import Path\n",
    "from dataclasses import dataclass\n",
    "\n",
    "@dataclass\n",
    "class TrainingConfig:\n",
    "    root_dir: Path\n",
    "    train_data_path: Path\n",
    "    model_path: Path\n"
   ]
  },
  {
   "cell_type": "code",
   "execution_count": 4,
   "metadata": {},
   "outputs": [],
   "source": [
    "from FakeNewsDetection.utils.common import read_yaml, create_directories\n",
    "from FakeNewsDetection.constants import *\n",
    "\n",
    "class ConfigurationManager:\n",
    "    def __init__(self, \n",
    "                 config_path= CONFIG_FILE,\n",
    "                 parama_path= PARAMS_FILE,\n",
    "                 schema_path= SCHEMA_FILE):\n",
    "        \n",
    "        self.config = read_yaml(config_path)\n",
    "        self.params = read_yaml(parama_path)\n",
    "        self.schema = read_yaml(schema_path)\n",
    "\n",
    "        create_directories([self.config.artifact_root])\n",
    "\n",
    "    def get_training_config(self) -> TrainingConfig:\n",
    "        config = self.config.training\n",
    "        create_directories([config.root_dir])\n",
    "\n",
    "        return TrainingConfig(\n",
    "            root_dir = Path(config.root_dir),\n",
    "            train_data_path = Path(config.train_data_path),\n",
    "            model_path = Path(config.model_path)\n",
    "        )"
   ]
  },
  {
   "cell_type": "code",
   "execution_count": 5,
   "metadata": {},
   "outputs": [],
   "source": [
    "import os\n",
    "from FakeNewsDetection import logger\n",
    "import pandas as pd\n",
    "from sklearn.model_selection import train_test_split\n",
    "from sklearn.feature_extraction.text import TfidfVectorizer\n",
    "from sklearn.linear_model import LogisticRegression\n",
    "import joblib\n",
    "\n",
    "class Training:\n",
    "    def __init__(self, config: TrainingConfig):\n",
    "        self.config = config\n",
    "\n",
    "    def train(self):\n",
    "        try:\n",
    "            # load training data\n",
    "            train_data = pd.read_csv(self.config.train_data_path)\n",
    "            logger.info(f\"Training data loaded from {self.config.train_data_path}\")\n",
    "            # vectorize it\n",
    "            vectorizer = TfidfVectorizer(max_features=200)\n",
    "            X = vectorizer.fit_transform(train_data['text']).toarray()\n",
    "            y = train_data['label'].values\n",
    "            # remove train data from memory\n",
    "            del train_data\n",
    "\n",
    "            # create logidtic regression model\n",
    "            model = LogisticRegression()\n",
    "            model.fit(X, y)\n",
    "            logger.info(\"Model trained successfully\")\n",
    "            # save model in pickle, path is in config\n",
    "            joblib.dump(model, self.config.model_path)\n",
    "            logger.info(f\"Model saved at {self.config.model_path}\")\n",
    "        except Exception as e:\n",
    "            logger.error(f\"Training failed: {str(e)}\")\n",
    "            raise e"
   ]
  },
  {
   "cell_type": "code",
   "execution_count": 6,
   "metadata": {},
   "outputs": [
    {
     "name": "stdout",
     "output_type": "stream",
     "text": [
      "[2024-11-21 14:58:14,329] [INFO] [common.py:26] [Loaded yaml file from config\\config.yaml]\n",
      "[2024-11-21 14:58:14,332] [INFO] [common.py:26] [Loaded yaml file from params.yaml]\n",
      "[2024-11-21 14:58:14,337] [INFO] [common.py:26] [Loaded yaml file from schema.yaml]\n",
      "[2024-11-21 14:58:14,340] [INFO] [common.py:48] [created directory at: artifacts]\n",
      "[2024-11-21 14:58:14,343] [INFO] [common.py:48] [created directory at: artifacts/training]\n",
      "[2024-11-21 14:58:16,191] [INFO] [2081724299.py:17] [Training data loaded from artifacts\\data_preprocessing\\train.csv]\n",
      "[2024-11-21 14:58:34,207] [INFO] [2081724299.py:28] [Model trained successfully]\n",
      "[2024-11-21 14:58:34,229] [INFO] [2081724299.py:31] [Model saved at artifacts\\training\\model.pkl]\n"
     ]
    }
   ],
   "source": [
    "# start pupline\n",
    "config_manager = ConfigurationManager() \n",
    "training_config = config_manager.get_training_config()\n",
    "trainer = Training(training_config)\n",
    "trainer.train()"
   ]
  }
 ],
 "metadata": {
  "kernelspec": {
   "display_name": "eefnd",
   "language": "python",
   "name": "python3"
  },
  "language_info": {
   "codemirror_mode": {
    "name": "ipython",
    "version": 3
   },
   "file_extension": ".py",
   "mimetype": "text/x-python",
   "name": "python",
   "nbconvert_exporter": "python",
   "pygments_lexer": "ipython3",
   "version": "3.9.12"
  }
 },
 "nbformat": 4,
 "nbformat_minor": 2
}
