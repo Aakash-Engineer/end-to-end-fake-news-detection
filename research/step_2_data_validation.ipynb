{
 "cells": [
  {
   "cell_type": "code",
   "execution_count": 2,
   "metadata": {},
   "outputs": [],
   "source": [
    "import os\n",
    "os.chdir('../')"
   ]
  },
  {
   "cell_type": "code",
   "execution_count": 13,
   "metadata": {},
   "outputs": [
    {
     "data": {
      "text/plain": [
       "'e:\\\\Github repositories\\\\end-to-end-fake-news-detection'"
      ]
     },
     "execution_count": 13,
     "metadata": {},
     "output_type": "execute_result"
    }
   ],
   "source": [
    "%pwd"
   ]
  },
  {
   "cell_type": "code",
   "execution_count": 18,
   "metadata": {},
   "outputs": [],
   "source": [
    "from pathlib import Path\n",
    "from dataclasses import dataclass\n",
    "\n",
    "@dataclass\n",
    "class DataValidationConfig:\n",
    "    root_dir: Path\n",
    "    unzip_data_path: Path\n",
    "    status_file_path: Path\n",
    "    all_schema: dict\n",
    "    "
   ]
  },
  {
   "cell_type": "code",
   "execution_count": 29,
   "metadata": {},
   "outputs": [],
   "source": [
    "from FakeNewsDetection.utils.common import read_yaml, create_directories\n",
    "from FakeNewsDetection.constants import *\n",
    "\n",
    "class ConfigurationManager:\n",
    "    def __init__(self, \n",
    "                 config_path= CONFIG_FILE,\n",
    "                 parama_path= PARAMS_FILE,\n",
    "                 schema_path= SCHEMA_FILE):\n",
    "        \n",
    "        self.config = read_yaml(config_path)\n",
    "        self.params = read_yaml(parama_path)\n",
    "        self.schema = read_yaml(schema_path)\n",
    "\n",
    "        create_directories([self.config.artifact_root])\n",
    "\n",
    "    def get_datavalidation_config(self) -> DataValidationConfig:\n",
    "        config = self.config.data_validation\n",
    "        create_directories([config.root_dir])\n",
    "\n",
    "        return DataValidationConfig(\n",
    "            root_dir=config.root_dir,\n",
    "            unzip_data_path=config.unzip_data_path,\n",
    "            status_file_path=config.status_file_path,\n",
    "            all_schema=self.schema.COLUMNS\n",
    "        )"
   ]
  },
  {
   "cell_type": "code",
   "execution_count": 34,
   "metadata": {},
   "outputs": [],
   "source": [
    "import os\n",
    "from FakeNewsDetection import logger\n",
    "import pandas as pd\n",
    "\n",
    "\n",
    "class DataValidation:\n",
    "    def __init__(self, config: DataValidationConfig):\n",
    "        self.config = config\n",
    "        \n",
    "    def validate_data_columns(self) ->bool:\n",
    "        try:\n",
    "            val_status = None\n",
    "            data = pd.read_csv(self.config.unzip_data_path, nrows=5)\n",
    "            all_cols = list(data.columns)\n",
    "\n",
    "            all_schema_cols = list(self.config.all_schema.keys())\n",
    "\n",
    "            for col in all_cols:\n",
    "                if col not in all_schema_cols:\n",
    "                    logger.error(f\"Column {col} is not in schema\")\n",
    "                    val_status=False\n",
    "                    break\n",
    "            else:\n",
    "                val_status = True\n",
    "            \n",
    "\n",
    "            with open(self.config.status_file_path, \"w\") as f:\n",
    "                f.write(f\"Validation Status: {val_status}\")\n",
    "                if val_status:\n",
    "                    logger.info(\"Data Validation Passed\")\n",
    "\n",
    "            return val_status\n",
    "        except Exception as e:\n",
    "            logger.error(f\"Error in data validation: {str(e)}\")\n",
    "            raise Exception()\n",
    "\n",
    "\n"
   ]
  },
  {
   "cell_type": "code",
   "execution_count": 36,
   "metadata": {},
   "outputs": [
    {
     "name": "stdout",
     "output_type": "stream",
     "text": [
      "[2024-11-21 11:50:28,682] [INFO] [common.py:26] [Loaded yaml file from config\\config.yaml]\n",
      "[2024-11-21 11:50:28,685] [INFO] [common.py:26] [Loaded yaml file from params.yaml]\n",
      "[2024-11-21 11:50:28,690] [INFO] [common.py:26] [Loaded yaml file from schema.yaml]\n",
      "[2024-11-21 11:50:28,693] [INFO] [common.py:48] [created directory at: artifacts]\n",
      "[2024-11-21 11:50:28,698] [INFO] [common.py:48] [created directory at: artifacts/data_validation]\n",
      "[2024-11-21 11:50:28,708] [INFO] [1404676303.py:30] [Data Validation Passed]\n"
     ]
    }
   ],
   "source": [
    "# starts data validation \n",
    "\n",
    "if __name__ == '__main__':\n",
    "    try:\n",
    "        config_mgr = ConfigurationManager()\n",
    "        data_validation_config = config_mgr.get_datavalidation_config()\n",
    "        data_validation = DataValidation(config= data_validation_config)\n",
    "        data_validation.validate_data_columns()\n",
    "    except Exception as e:\n",
    "        logger.error(e)\n",
    "        "
   ]
  },
  {
   "cell_type": "code",
   "execution_count": null,
   "metadata": {},
   "outputs": [],
   "source": []
  },
  {
   "cell_type": "code",
   "execution_count": null,
   "metadata": {},
   "outputs": [],
   "source": []
  }
 ],
 "metadata": {
  "kernelspec": {
   "display_name": "eefnd",
   "language": "python",
   "name": "python3"
  },
  "language_info": {
   "codemirror_mode": {
    "name": "ipython",
    "version": 3
   },
   "file_extension": ".py",
   "mimetype": "text/x-python",
   "name": "python",
   "nbconvert_exporter": "python",
   "pygments_lexer": "ipython3",
   "version": "3.9.12"
  }
 },
 "nbformat": 4,
 "nbformat_minor": 2
}
