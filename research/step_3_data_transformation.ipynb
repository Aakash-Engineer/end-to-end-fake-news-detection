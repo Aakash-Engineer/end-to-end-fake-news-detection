{
 "cells": [
  {
   "cell_type": "code",
   "execution_count": 1,
   "metadata": {},
   "outputs": [
    {
     "data": {
      "text/plain": [
       "'e:\\\\Github repositories\\\\end-to-end-fake-news-detection'"
      ]
     },
     "execution_count": 1,
     "metadata": {},
     "output_type": "execute_result"
    }
   ],
   "source": [
    "import os\n",
    "os.chdir('../')\n",
    "%pwd"
   ]
  },
  {
   "cell_type": "code",
   "execution_count": 6,
   "metadata": {},
   "outputs": [],
   "source": [
    "from pathlib import Path\n",
    "from dataclasses import dataclass\n",
    "\n",
    "@dataclass\n",
    "class PreprocessingConfig:\n",
    "    root_dir: Path\n",
    "    raw_data_path: Path\n",
    "    train_data_path: Path\n",
    "    test_data_path: Path\n",
    "    status_file_path: Path"
   ]
  },
  {
   "cell_type": "code",
   "execution_count": 8,
   "metadata": {},
   "outputs": [],
   "source": [
    "from FakeNewsDetection.utils.common import read_yaml, create_directories\n",
    "from FakeNewsDetection.constants import *\n",
    "\n",
    "class ConfigurationManager:\n",
    "    def __init__(self, \n",
    "                 config_path= CONFIG_FILE,\n",
    "                 parama_path= PARAMS_FILE,\n",
    "                 schema_path= SCHEMA_FILE):\n",
    "        \n",
    "        self.config = read_yaml(config_path)\n",
    "        self.params = read_yaml(parama_path)\n",
    "        self.schema = read_yaml(schema_path)\n",
    "\n",
    "        create_directories([self.config.artifact_root])\n",
    "    \n",
    "    def get_data_preproconfig(self):\n",
    "        config = self.config.data_preprocessing\n",
    "        create_directories([config.root_dir])\n",
    "\n",
    "        return PreprocessingConfig(\n",
    "            root_dir= Path(config.root_dir),\n",
    "            raw_data_path= Path(config.raw_data_path),\n",
    "            train_data_path= Path(config.train_data_path),\n",
    "            test_data_path= Path(config.test_data_path),\n",
    "            status_file_path= Path(config.status_file_path)\n",
    "        )"
   ]
  },
  {
   "cell_type": "code",
   "execution_count": 11,
   "metadata": {},
   "outputs": [],
   "source": [
    "import os\n",
    "from FakeNewsDetection import logger\n",
    "import pandas as pd\n",
    "from sklearn.model_selection import train_test_split\n",
    "from sklearn.feature_extraction.text import TfidfVectorizer\n",
    "\n",
    "\n",
    "class DataPreprocessing:\n",
    "    def __init__(self, config: PreprocessingConfig):\n",
    "        self.config = config\n",
    "    \n",
    "    def preprocess_data(self):\n",
    "        try:\n",
    "            df = pd.read_csv(self.config.raw_data_path)\n",
    "            logger.info(f\"Data read successfully from {self.config.raw_data_path}\")\n",
    "            # drop duplicates\n",
    "            df.drop_duplicates(inplace=True)\n",
    "            logger.info(\"Duplicates dropped\")\n",
    "            # drop rows with missing values\n",
    "            df.dropna(subset=['title', 'text'], inplace=True, axis=0)\n",
    "            logger.info(\"Rows with missing values dropped\")\n",
    "            # merge title and text columns\n",
    "            df['text'] = df['title'] + \" \" + df['text']\n",
    "            # drop other columns except title and label\n",
    "            df.drop(columns=['title', 'subject', 'date'], inplace=True)\n",
    "            logger.info(\"Columns dropped\")\n",
    "            # keep only alphabets and numbers\n",
    "            df['text'] = df['text'].str.replace(r'[^a-zA-Z0-9\\s]', '', regex=True)\n",
    "            \n",
    "            X_train, X_test, y_train, y_test = train_test_split(df['text'], df['label'], test_size=0.05, random_state=42)\n",
    "            logger.info(\"Train test split done\")\n",
    "            # save train and test data\n",
    "            train_data = pd.concat([X_train, y_train], axis=1)\n",
    "            test_data = pd.concat([X_test, y_test], axis=1)\n",
    "\n",
    "            train_data.to_csv(self.config.train_data_path, index=False)\n",
    "            test_data.to_csv(self.config.test_data_path, index=False)\n",
    "            logger.info(\"Train and test data saved\")\n",
    "            \n",
    "        except Exception as e:\n",
    "            logger.error(f\"Data preprocessing failed: {e}\")\n",
    "            raise e\n",
    "            "
   ]
  },
  {
   "cell_type": "code",
   "execution_count": 12,
   "metadata": {},
   "outputs": [
    {
     "name": "stdout",
     "output_type": "stream",
     "text": [
      "[2024-11-21 14:30:48,606] [INFO] [common.py:26] [Loaded yaml file from config\\config.yaml]\n",
      "[2024-11-21 14:30:48,609] [INFO] [common.py:26] [Loaded yaml file from params.yaml]\n",
      "[2024-11-21 14:30:48,614] [INFO] [common.py:26] [Loaded yaml file from schema.yaml]\n",
      "[2024-11-21 14:30:48,617] [INFO] [common.py:48] [created directory at: artifacts]\n",
      "[2024-11-21 14:30:48,619] [INFO] [common.py:48] [created directory at: artifacts/data_preprocessing]\n",
      "[2024-11-21 14:30:50,709] [INFO] [542353865.py:15] [Data read successfully from artifacts\\data_ingestion\\data.csv]\n",
      "[2024-11-21 14:30:51,200] [INFO] [542353865.py:18] [Duplicates dropped]\n",
      "[2024-11-21 14:30:51,659] [INFO] [542353865.py:21] [Rows with missing values dropped]\n",
      "[2024-11-21 14:30:52,091] [INFO] [542353865.py:26] [Columns dropped]\n",
      "[2024-11-21 14:30:54,687] [INFO] [542353865.py:31] [Train test split done]\n",
      "[2024-11-21 14:31:03,574] [INFO] [542353865.py:38] [Train and test data saved]\n"
     ]
    }
   ],
   "source": [
    "# start pipelin\n",
    "if __name__ == \"__main__\":\n",
    "    try:\n",
    "        config_mgr = ConfigurationManager()\n",
    "        data_preproconfig = config_mgr.get_data_preproconfig()\n",
    "        data_preprocessor = DataPreprocessing(data_preproconfig)\n",
    "        data_preprocessor.preprocess_data()\n",
    "    except Exception as e:\n",
    "        logger.error(f\"Failed to preprocess data: {e}\")\n",
    "        raise e"
   ]
  },
  {
   "cell_type": "code",
   "execution_count": null,
   "metadata": {},
   "outputs": [],
   "source": []
  }
 ],
 "metadata": {
  "kernelspec": {
   "display_name": "eefnd",
   "language": "python",
   "name": "python3"
  },
  "language_info": {
   "codemirror_mode": {
    "name": "ipython",
    "version": 3
   },
   "file_extension": ".py",
   "mimetype": "text/x-python",
   "name": "python",
   "nbconvert_exporter": "python",
   "pygments_lexer": "ipython3",
   "version": "3.9.12"
  }
 },
 "nbformat": 4,
 "nbformat_minor": 2
}
