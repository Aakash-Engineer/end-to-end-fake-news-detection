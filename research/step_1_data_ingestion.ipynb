{
 "cells": [
  {
   "cell_type": "code",
   "execution_count": 1,
   "metadata": {},
   "outputs": [],
   "source": [
    "import os\n",
    "os.chdir('../')"
   ]
  },
  {
   "cell_type": "code",
   "execution_count": 2,
   "metadata": {},
   "outputs": [
    {
     "data": {
      "text/plain": [
       "'e:\\\\Github repositories\\\\end-to-end-fake-news-detection'"
      ]
     },
     "execution_count": 2,
     "metadata": {},
     "output_type": "execute_result"
    }
   ],
   "source": [
    "%pwd"
   ]
  },
  {
   "cell_type": "code",
   "execution_count": 58,
   "metadata": {},
   "outputs": [],
   "source": [
    "from pathlib import Path\n",
    "from dataclasses import dataclass\n",
    "\n",
    "@dataclass(frozen=True)\n",
    "class DataIngestionConfig:\n",
    "    root_dir: Path\n",
    "    source_url: str\n",
    "    local_data_file: Path\n",
    "    unzip_dir: Path"
   ]
  },
  {
   "cell_type": "code",
   "execution_count": 59,
   "metadata": {},
   "outputs": [],
   "source": [
    "from FakeNewsDetection.utils.common import read_yaml, create_directory\n",
    "from FakeNewsDetection.constants import *\n",
    "\n",
    "class ConfigurationManager:\n",
    "    def __init__(self, \n",
    "                 config_path= CONFIG_FILE,\n",
    "                 parama_path= PARAMS_FILE):\n",
    "        \n",
    "        self.config = read_yaml(config_path)\n",
    "        self.params = read_yaml(parama_path)\n",
    "\n",
    "        create_directory([self.config.artifact_root])\n",
    "\n",
    "    def get_data_ingestion_config(self) -> DataIngestionConfig:\n",
    "        config = self.config.data_ingestion\n",
    "        create_directory([config.root_dir])\n",
    "\n",
    "        return DataIngestionConfig(\n",
    "            root_dir=config.root_dir,\n",
    "            source_url=config.source_url,\n",
    "            local_data_file=config.local_data_file,\n",
    "            unzip_dir=config.unzip_dir\n",
    "        )\n"
   ]
  },
  {
   "cell_type": "code",
   "execution_count": 60,
   "metadata": {},
   "outputs": [],
   "source": [
    "import os\n",
    "import urllib.request as request\n",
    "import zipfile\n",
    "from FakeNewsDetection import logger\n",
    "import gdown\n",
    "\n",
    "class DataIngestion:\n",
    "    def __init__(self, config: DataIngestionConfig):\n",
    "        self.config = config\n",
    "    \n",
    "    # function to download data from google drive\n",
    "    \n",
    "    def download_data(self):\n",
    "        try:\n",
    "            if not os.path.exists(self.config.local_data_file):\n",
    "                logger.info(\"Downloading data from source\")\n",
    "                # download data from google drive\n",
    "                gdown.download(self.config.source_url, self.config.local_data_file, quiet=False)\n",
    "                logger.info(\"Data downloaded successfully\")\n",
    "            else:\n",
    "                logger.info(\"Data already exists\")\n",
    "        except Exception as e:\n",
    "            logger.error(f\"Error downloading data: {e}\")\n",
    "            raise e\n",
    "    def unzip_data(self):\n",
    "        try:\n",
    "            if os.path.exists(self.config.local_data_file):\n",
    "                with zipfile.ZipFile(self.config.local_data_file, 'r') as zip_ref:\n",
    "                    zip_ref.extractall(self.config.unzip_dir)\n",
    "                logger.info(\"Data unzipped successfully\")\n",
    "            else:\n",
    "                logger.info(\"Data already unzipped\")\n",
    "        except Exception as e:\n",
    "            logger.error(f\"Error unzipping data: {e}\")\n",
    "            raise e\n"
   ]
  },
  {
   "cell_type": "code",
   "execution_count": 64,
   "metadata": {},
   "outputs": [
    {
     "name": "stdout",
     "output_type": "stream",
     "text": [
      "[2024-11-21 09:26:34,952] [INFO] [common.py:26] [Loaded yaml file from config\\config.yaml]\n",
      "[2024-11-21 09:26:34,958] [INFO] [common.py:26] [Loaded yaml file from params.yaml]\n",
      "[2024-11-21 09:26:34,960] [INFO] [common.py:51] [Created directory artifacts]\n",
      "[2024-11-21 09:26:34,963] [INFO] [common.py:51] [Created directory artifacts/data_ingestion]\n",
      "[2024-11-21 09:26:34,965] [INFO] [274604666.py:21] [Data already exists]\n",
      "[2024-11-21 09:26:34,971] [INFO] [274604666.py:30] [Data unzipped successfully]\n"
     ]
    }
   ],
   "source": [
    "if __name__ == '__main__':\n",
    "    try:\n",
    "        config = ConfigurationManager()\n",
    "        data_ingestion_config = config.get_data_ingestion_config()\n",
    "        data_ingestion = DataIngestion(data_ingestion_config)\n",
    "        data_ingestion.download_data()\n",
    "        data_ingestion.unzip_data()\n",
    "    except Exception as e:  \n",
    "        logger.error(f\"Error in data ingestion: {e}\")\n",
    "        raise e\n"
   ]
  },
  {
   "cell_type": "code",
   "execution_count": null,
   "metadata": {},
   "outputs": [],
   "source": []
  },
  {
   "cell_type": "code",
   "execution_count": null,
   "metadata": {},
   "outputs": [
    {
     "name": "stderr",
     "output_type": "stream",
     "text": [
      "UsageError: Line magic function `%unzip` not found.\n"
     ]
    }
   ],
   "source": []
  }
 ],
 "metadata": {
  "kernelspec": {
   "display_name": "eefnd",
   "language": "python",
   "name": "python3"
  },
  "language_info": {
   "codemirror_mode": {
    "name": "ipython",
    "version": 3
   },
   "file_extension": ".py",
   "mimetype": "text/x-python",
   "name": "python",
   "nbconvert_exporter": "python",
   "pygments_lexer": "ipython3",
   "version": "3.9.12"
  }
 },
 "nbformat": 4,
 "nbformat_minor": 2
}
